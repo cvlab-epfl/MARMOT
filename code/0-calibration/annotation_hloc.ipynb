{
 "cells": [
  {
   "cell_type": "code",
   "execution_count": null,
   "metadata": {},
   "outputs": [],
   "source": [
    "import os\n",
    "import sys\n",
    "import numpy as np\n",
    "import json\n",
    "\n",
    "sys.path.append('..')\n",
    "from configs.arguments import get_config_dict\n",
    "from utils.multiview_utils import Camera, Calibration, MultiviewVids\n",
    "from utils.io_utils import write_json, load_json\n",
    "from utils.metadata_utils import get_cam_names\n",
    "from utils.coordinate_utils import update_reconstruction, point_in_polygon, project_to_ground_plane_cv2\n",
    "from utils.plot_utils import rotation_matrix, perp\n",
    "\n",
    "from scipy.spatial.transform import Rotation as R\n",
    "from skspatial.objects import Point, Vector, Plane, Points, Line\n",
    "import pyransac3d as pyrsc\n",
    "\n",
    "import copy\n",
    "import cv2\n",
    "import ipywidgets as widgets\n",
    "import ipympl\n",
    "import matplotlib.pyplot as plt\n",
    "%matplotlib widget\n",
    "\n",
    "arv_copy = sys.argv\n",
    "sys.argv = ['pop']\n",
    "sys.argv.append('-cfg')\n",
    "config_path = os.path.abspath('../../project_config.yaml')\n",
    "sys.argv.append(config_path)\n",
    "sys.argv.append('-dr')\n",
    "root_path = os.path.abspath('../../data/')\n",
    "sys.argv.append(root_path)\n",
    "sys.argv.append('-l')\n",
    "sys.argv.append('info')\n",
    "\n",
    "# load arguments from the arg parser\n",
    "config = get_config_dict()\n",
    "data_root = config[\"main\"][\"data_root\"]\n",
    "calib_dir = os.path.join(data_root, '0-calibration', 'calibs')\n",
    "video_dir = os.path.join(data_root, 'raw_data', 'footage')\n",
    "reconstruction_dir = os.path.join(data_root, '0-calibration', 'opensfm', 'undistorted', 'reconstruction.json')\n",
    "omni_tag = '360'\n",
    "\n",
    "\n",
    "reconstruction_dir = os.path.join(data_root, '0-calibration', 'output', 'reconstruction.h5')\n",
    "\n",
    "    "
   ]
  },
  {
   "cell_type": "code",
   "execution_count": null,
   "metadata": {},
   "outputs": [],
   "source": [
    "model = reconstruction.main(\n",
    "    sfm_dir, images, sfm_pairs, features, matches, image_list=references, image_options = opts\n",
    ")\n",
    "fig = viz_3d.init_figure()\n",
    "viz_3d.plot_reconstruction(\n",
    "    fig, model, color=\"rgba(255,0,0,0.5)\", name=\"mapping\", points_rgb=True\n",
    ")\n",
    "fig.show()"
   ]
  },
  {
   "cell_type": "code",
   "execution_count": null,
   "metadata": {},
   "outputs": [],
   "source": []
  },
  {
   "cell_type": "code",
   "execution_count": null,
   "metadata": {},
   "outputs": [],
   "source": []
  }
 ],
 "metadata": {
  "language_info": {
   "name": "python"
  }
 },
 "nbformat": 4,
 "nbformat_minor": 2
}
