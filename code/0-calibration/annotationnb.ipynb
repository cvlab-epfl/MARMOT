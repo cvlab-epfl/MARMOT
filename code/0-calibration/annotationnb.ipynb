{
 "cells": [
  {
   "cell_type": "code",
   "execution_count": 1,
   "metadata": {},
   "outputs": [],
   "source": [
    "import os\n",
    "import sys\n",
    "import numpy as np\n",
    "import json\n",
    "\n",
    "sys.path.append('..')\n",
    "from configs.arguments import get_config_dict\n",
    "from utils.multiview_utils import Camera, Calibration, MultiviewVids\n",
    "from utils.io_utils import write_json, load_json\n",
    "from utils.metadata_utils import get_cam_names\n",
    "from utils.coordinate_utils import update_reconstruction, point_in_polygon, project_to_ground_plane_cv2\n",
    "from utils.plot_utils import rotation_matrix, perp\n",
    "\n",
    "from scipy.spatial.transform import Rotation as R\n",
    "from skspatial.objects import Point, Vector, Plane, Points, Line\n",
    "import pyransac3d as pyrsc\n",
    "\n",
    "import copy\n",
    "import cv2\n",
    "import ipywidgets as widgets\n",
    "import ipympl\n",
    "import matplotlib.pyplot as plt\n",
    "%matplotlib widget\n"
   ]
  },
  {
   "cell_type": "code",
   "execution_count": 4,
   "metadata": {},
   "outputs": [
    {
     "name": "stdout",
     "output_type": "stream",
     "text": [
      "Reconstruction not found. Please run 0-calibration/2-extrinsics.py first.\n"
     ]
    }
   ],
   "source": [
    "\n",
    "arv_copy = sys.argv\n",
    "sys.argv = ['pop']\n",
    "sys.argv.append('-cfg')\n",
    "config_path = os.path.abspath('../../project_config.yaml')\n",
    "sys.argv.append(config_path)\n",
    "sys.argv.append('-dr')\n",
    "root_path = os.path.abspath('../../data/')\n",
    "sys.argv.append(root_path)\n",
    "sys.argv.append('-l')\n",
    "sys.argv.append('info')\n",
    "sys.path.append('/source/OpenSfM')\n",
    "\n",
    "# load arguments from the arg parser\n",
    "config = get_config_dict()\n",
    "data_root = config[\"main\"][\"data_root\"]\n",
    "calib_dir = os.path.join(data_root, '0-calibration', 'calibs')\n",
    "video_dir = os.path.join(data_root, 'raw_data', 'footage')\n",
    "reconstruction_dir = os.path.join(data_root, '0-calibration', 'opensfm', 'undistorted', 'reconstruction.json')\n",
    "omni_tag = '360'\n",
    "\n",
    "\n",
    "reconstruction_dir = os.path.join(data_root, '0-calibration', 'opensfm', 'reconstruction.json')\n",
    "if not os.path.exists(reconstruction_dir):\n",
    "    print( \"Reconstruction not found. Please run 0-calibration/2-extrinsics.py first.\")"
   ]
  },
  {
   "cell_type": "code",
   "execution_count": 5,
   "metadata": {},
   "outputs": [],
   "source": [
    "import opensfm"
   ]
  },
  {
   "cell_type": "code",
   "execution_count": 6,
   "metadata": {},
   "outputs": [
    {
     "name": "stdout",
     "output_type": "stream",
     "text": [
      "\u001b[32m11:33:15.982\u001b[0m - [...bration/../utils/multiview_utils.py:867] - \u001b[1;30mINFO    \u001b[0m - Cameras: ['cam1', 'cam2', 'cam3']\n",
      "\u001b[32m11:33:16.061\u001b[0m - [...bration/../utils/multiview_utils.py:875] - \u001b[1;30mINFO    \u001b[0m - Loading calibration data for camera 'cam1'\n",
      "\u001b[32m11:33:16.134\u001b[0m - [...bration/../utils/multiview_utils.py:875] - \u001b[1;30mINFO    \u001b[0m - Loading calibration data for camera 'cam2'\n",
      "\u001b[32m11:33:16.179\u001b[0m - [...bration/../utils/multiview_utils.py:875] - \u001b[1;30mINFO    \u001b[0m - Loading calibration data for camera 'cam3'\n"
     ]
    },
    {
     "ename": "ValueError",
     "evalue": "Unable to read JSON /cvlabscratch/cvlab/home/engilber/dev/MARMOT/data/0-calibration/opensfm/reconstruction.json",
     "output_type": "error",
     "traceback": [
      "\u001b[0;31m---------------------------------------------------------------------------\u001b[0m",
      "\u001b[0;31mFileNotFoundError\u001b[0m                         Traceback (most recent call last)",
      "File \u001b[0;32m/cvlabscratch/cvlab/home/engilber/dev/MARMOT/code/0-calibration/../utils/io_utils.py:41\u001b[0m, in \u001b[0;36mload_json\u001b[0;34m(filename)\u001b[0m\n\u001b[1;32m     40\u001b[0m \u001b[38;5;28;01mtry\u001b[39;00m:\n\u001b[0;32m---> 41\u001b[0m     \u001b[38;5;28;01mwith\u001b[39;00m \u001b[38;5;28;43mopen\u001b[39;49m\u001b[43m(\u001b[49m\u001b[43mos\u001b[49m\u001b[38;5;241;43m.\u001b[39;49m\u001b[43mpath\u001b[49m\u001b[38;5;241;43m.\u001b[39;49m\u001b[43mabspath\u001b[49m\u001b[43m(\u001b[49m\u001b[43mfilename\u001b[49m\u001b[43m)\u001b[49m\u001b[43m)\u001b[49m \u001b[38;5;28;01mas\u001b[39;00m f:    \n\u001b[1;32m     42\u001b[0m         data \u001b[38;5;241m=\u001b[39m json\u001b[38;5;241m.\u001b[39mload(f)\n",
      "\u001b[0;31mFileNotFoundError\u001b[0m: [Errno 2] No such file or directory: '/cvlabscratch/cvlab/home/engilber/dev/MARMOT/data/0-calibration/opensfm/reconstruction.json'",
      "\nDuring handling of the above exception, another exception occurred:\n",
      "\u001b[0;31mValueError\u001b[0m                                Traceback (most recent call last)",
      "Cell \u001b[0;32mIn[6], line 12\u001b[0m\n\u001b[1;32m      9\u001b[0m base_frames \u001b[38;5;241m=\u001b[39m mvvids\u001b[38;5;241m.\u001b[39mextract_mv(frame_ids, undistort \u001b[38;5;241m=\u001b[39m \u001b[38;5;28;01mTrue\u001b[39;00m)\n\u001b[1;32m     11\u001b[0m \u001b[38;5;66;03m# Load reconstruction\u001b[39;00m\n\u001b[0;32m---> 12\u001b[0m reconstruction \u001b[38;5;241m=\u001b[39m \u001b[43mload_json\u001b[49m\u001b[43m(\u001b[49m\u001b[43mreconstruction_dir\u001b[49m\u001b[43m)\u001b[49m[\u001b[38;5;241m0\u001b[39m]\n",
      "File \u001b[0;32m/cvlabscratch/cvlab/home/engilber/dev/MARMOT/code/0-calibration/../utils/io_utils.py:45\u001b[0m, in \u001b[0;36mload_json\u001b[0;34m(filename)\u001b[0m\n\u001b[1;32m     43\u001b[0m     \u001b[38;5;28;01mreturn\u001b[39;00m data\n\u001b[1;32m     44\u001b[0m \u001b[38;5;28;01mexcept\u001b[39;00m:\n\u001b[0;32m---> 45\u001b[0m     \u001b[38;5;28;01mraise\u001b[39;00m \u001b[38;5;167;01mValueError\u001b[39;00m(\u001b[38;5;124m\"\u001b[39m\u001b[38;5;124mUnable to read JSON \u001b[39m\u001b[38;5;132;01m{}\u001b[39;00m\u001b[38;5;124m\"\u001b[39m\u001b[38;5;241m.\u001b[39mformat(filename))\n",
      "\u001b[0;31mValueError\u001b[0m: Unable to read JSON /cvlabscratch/cvlab/home/engilber/dev/MARMOT/data/0-calibration/opensfm/reconstruction.json"
     ]
    }
   ],
   "source": [
    "mvvids = MultiviewVids(newest=False)\n",
    "\n",
    "max_frame = np.min([10, mvvids.get_max_frame_id() - 1])\n",
    "step = 2\n",
    "base_frames = {}\n",
    "\n",
    "frame_ids = list(np.arange(0, max_frame, step))\n",
    "\n",
    "base_frames = mvvids.extract_mv(frame_ids, undistort = True)\n",
    "\n",
    "# Load reconstruction\n",
    "reconstruction = load_json(reconstruction_dir)[0]"
   ]
  },
  {
   "cell_type": "code",
   "execution_count": null,
   "metadata": {},
   "outputs": [],
   "source": [
    "# setting the first frame for each camera\n",
    "# we display a frame for camera 1 and then we ask the user to select the corresponding frame for the other cameras\n",
    "# we do this because the cameras are not perfectly synchronised\n",
    "from utils.plot_utils import first_frame_selector\n",
    "json_path = os.path.join(data_root, '0-calibration', 'first_frame.json')\n",
    "\n",
    "first_frame_selector(mvvids.cams, frame_ids, base_frames, json_path)\n",
    "\n"
   ]
  },
  {
   "cell_type": "code",
   "execution_count": null,
   "metadata": {},
   "outputs": [],
   "source": [
    "plt.close('all')\n",
    "\n",
    "from matplotlib.patches import Polygon\n",
    "\n",
    "\n",
    "roi_points = {cam.name: [] for cam in mvvids.cams}\n",
    "\n",
    "# create dropdown widget with camera names as options\n",
    "cam_dropdown = widgets.Dropdown(\n",
    "    options=[cam.name for cam in mvvids.cams],\n",
    "    value=mvvids.cams[0].name,\n",
    "    description='Camera:',\n",
    "    disabled=False,\n",
    ")\n",
    "\n",
    "def onclick(event, cam):\n",
    "    ax.plot(event.xdata, event.ydata, 'rx', markersize=10)\n",
    "    roi_points[cam.name].append(([event.xdata, event.ydata]))\n",
    "\n",
    "    # check if we have at least 3 points to define a polygon\n",
    "    if len(roi_points[cam.name]) >= 3:\n",
    "        # get the x and y coordinates of the clicked points\n",
    "        x, y = zip(*roi_points[cam.name])\n",
    "\n",
    "        # create a polygon patch with the clicked points\n",
    "        polygon = Polygon(list(zip(x, y)), alpha=0.2, facecolor='C0')\n",
    "\n",
    "        # remove any existing polygon patches from the axes\n",
    "        for patch in ax.patches:\n",
    "            patch.remove()\n",
    "\n",
    "        # add the new polygon patch to the axes\n",
    "        ax.add_patch(polygon)\n",
    "\n",
    "    fig.canvas.draw()\n",
    "    pass\n",
    "\n",
    "def update_cam(change):\n",
    "    ax.cla()\n",
    "    global cam\n",
    "    cam_name = change.new\n",
    "    cam = next(cam for cam in mvvids.cams if cam.name == cam_name)\n",
    "    ax.set_title(f\"Camera: {cam.name}\")\n",
    "    ax.imshow(base_frames[cam.name][0])\n",
    "    fig.canvas.draw()\n",
    "    pass\n",
    "\n",
    "cam_dropdown.observe(update_cam, names='value')\n",
    "\n",
    "cam = mvvids.cams[0]\n",
    "fig, ax = plt.subplots(1,1, figsize=(10,10))\n",
    "ax.imshow(base_frames[cam.name][0])\n",
    "fig.subplots_adjust(left=0, right=1, bottom=0, top=1)\n",
    "\n",
    "cid = fig.canvas.mpl_connect('button_press_event', lambda event: onclick(event, cam))\n",
    "\n",
    "display(cam_dropdown)\n",
    "# display(fig)"
   ]
  },
  {
   "cell_type": "code",
   "execution_count": null,
   "metadata": {},
   "outputs": [],
   "source": [
    "# Select 2 points on the ground in the image to define the scale\n",
    "\n",
    "known_distance = 500.0 # distance between two points in cm\n",
    "\n",
    "cam = mvvids.cams[0]\n",
    "frame_num = len(base_frames[cam.name]) - 1\n",
    "img = copy.deepcopy(base_frames[cam.name][frame_num])\n",
    "\n",
    "fig, ax = plt.subplots(1,1, figsize=(10,10))\n",
    "ax.set_title(f\"Select 2 points on the ground in the image to define the scale\")\n",
    "ax.imshow(img)\n",
    "ax.axis('off')\n",
    "\n",
    "cam_center = cam.get_position()\n",
    "first_point = None\n",
    "second_point = None\n",
    "scale_info = {}\n",
    "distance = known_distance\n",
    "def onclick3(event):\n",
    "    global first_point\n",
    "    global second_point\n",
    "    global distance\n",
    "    global scale_info\n",
    "    x, y = event.xdata, event.ydata\n",
    "    # img = cv2.drawMarker(img1, (int(x), int(y)), (0, 0, 255), markerType=cv2.MARKER_CROSS, markerSize=20, thickness=2)\n",
    "\n",
    "    if first_point is None:\n",
    "        # find the 3D point on the ground plane\n",
    "        first_point = (x, y)\n",
    "        ax.plot(x, y, 'rx')\n",
    "    elif second_point is None:\n",
    "        second_point = (x, y)\n",
    "        ax.plot(x, y, 'bx')\n",
    "    \n",
    "    scale_info = {'id': cam.calibration.view_id,'distance': known_distance, \n",
    "              'point1': first_point, 'point2': second_point}\n",
    "\n",
    "    ax.imshow(img)\n",
    "    fig.canvas.draw()\n",
    "\n",
    "\n",
    "\n",
    "cid = fig.canvas.mpl_connect('button_press_event', onclick3)"
   ]
  },
  {
   "cell_type": "code",
   "execution_count": null,
   "metadata": {},
   "outputs": [],
   "source": [
    "scale_info = {'id': 1,\n",
    " 'distance': 500.0,\n",
    " 'point1': (1597.8071572580645, 898.8909652217745),\n",
    " 'point2': (1280.6974798387098, 710.6070942540325)}\n",
    "\n",
    "\n",
    "roi_points = {'cam1': [[813.868046875, 703.5959863281252],\n",
    "  [765.868046875, 1064.555986328125],\n",
    "  [1806.5080468750002, 1003.1159863281251],\n",
    "  [1082.668046875, 571.1159863281251],\n",
    "  [867.6280468750001, 584.5559863281251]],\n",
    " 'cam2': [[228.268046875, 393.51601562500014],\n",
    "  [266.668046875, 533.6760156250001],\n",
    "  [1144.1080468750001, 1073.1960156250002],\n",
    "  [1288.108046875, 1071.2760156250001],\n",
    "  [1370.668046875, 754.4760156250001],\n",
    "  [354.98804687499995, 408.87601562500004]],\n",
    " 'cam3': [[431.788046875, 685.356015625],\n",
    "  [464.428046875, 936.8760156249999],\n",
    "  [1203.628046875, 1069.356015625],\n",
    "  [1136.428046875, 489.516015625],\n",
    "  [909.868046875, 456.87601562500004]]}"
   ]
  },
  {
   "cell_type": "code",
   "execution_count": null,
   "metadata": {},
   "outputs": [],
   "source": [
    "from utils.plot_utils import align_ground\n",
    "\n",
    "# set ROI for the cameras\n",
    "for cam in mvvids.cams:\n",
    "    cam.calibration = cam.calibration._replace(ROI = roi_points[cam.name])\n",
    "\n",
    "origin, rotation, scale, ground_plane, translated_gpp, pyrsc_plane = align_ground(mvvids, copy.deepcopy(reconstruction), scale_info)"
   ]
  },
  {
   "cell_type": "code",
   "execution_count": null,
   "metadata": {},
   "outputs": [],
   "source": [
    "# display z histogram\n",
    "new_z_list = translated_gpp[:,2]\n",
    "\n",
    "# remove outliers top and bottom 1%\n",
    "new_z_list = sorted(new_z_list)\n",
    "new_z_list = new_z_list[int(len(new_z_list)*0.02):int(len(new_z_list)*0.90)]\n",
    "\n",
    "fig, ax = plt.subplots()\n",
    "\n",
    "ax.clear()\n",
    "ax.hist(new_z_list, bins=100, range=(min(new_z_list), max(new_z_list)))\n",
    "ax.set_title(\"Histogram of z values in ROI\")\n",
    "# Draw a vertical line at 0\n",
    "ax.axvline(0, color=\"red\", linestyle=\"--\")"
   ]
  },
  {
   "cell_type": "code",
   "execution_count": null,
   "metadata": {},
   "outputs": [],
   "source": [
    "from utils.plot_utils import plot_3d_reconstruction\n",
    "\n",
    "\n",
    "# update the reconstruction with the new origin\n",
    "temp_reconstruction = update_reconstruction(reconstruction, \n",
    "                                            rotation = rotation, \n",
    "                                            origin=origin,\n",
    "                                            scaling=scale)\n",
    "fig = plt.figure(figsize=(10,10))\n",
    "ax = fig.add_subplot(111, projection='3d')\n",
    "\n",
    "plot_mvvids = copy.deepcopy(mvvids)\n",
    "for cam in plot_mvvids.cams:\n",
    "    cam.calibration = cam.calib_from_reconstruction(reconstruction = temp_reconstruction)\n",
    "\n",
    "plot_3d_reconstruction(ax, temp_reconstruction, plot_mvvids,  \n",
    "                           ground_plane= ground_plane, \n",
    "                           inliers = Points(translated_gpp[pyrsc_plane.inliers]), \n",
    "                           num_samples = 1000)\n"
   ]
  },
  {
   "cell_type": "code",
   "execution_count": null,
   "metadata": {},
   "outputs": [],
   "source": [
    "# display z histogram\n",
    "new_z_list = []\n",
    "\n",
    "for i in temp_reconstruction['points'].keys():\n",
    "    new_z_list.append(temp_reconstruction['points'][i]['coordinates'][2])\n",
    "\n",
    "# remove outliers top and bottom 1%\n",
    "new_z_list = sorted(new_z_list)\n",
    "new_z_list = new_z_list[int(len(new_z_list)*0.02):int(len(new_z_list)*0.98)]\n",
    "\n",
    "fig, ax = plt.subplots()\n",
    "\n",
    "ax.clear()\n",
    "ax.hist(new_z_list, bins=100, range=(min(new_z_list), max(new_z_list)))\n",
    "ax.set_title(\"Histogram of z values\")\n",
    "# Draw a vertical line at 0\n",
    "ax.axvline(0, color=\"red\", linestyle=\"--\")"
   ]
  },
  {
   "cell_type": "code",
   "execution_count": null,
   "metadata": {},
   "outputs": [],
   "source": []
  },
  {
   "cell_type": "code",
   "execution_count": null,
   "metadata": {},
   "outputs": [],
   "source": [
    "fig = plt.figure(figsize=(10,10))\n",
    "ax = fig.add_subplot(111, projection='3d')\n",
    "\n",
    "temp_reconstruction = update_reconstruction(copy.deepcopy(reconstruction), rotation = rotation, origin=origin, scaling = scale)\n",
    "\n",
    "plot_mvvids = copy.deepcopy(mvvids)\n",
    "\n",
    "rect, _ = plot_mvvids.get_bounding_box(reconstruction = temp_reconstruction)\n",
    "\n",
    "rotation_align = R.from_rotvec(np.radians(-rect[2]) * np.array([0, 0, 1])) * rotation\n",
    "\n",
    "temp_reconstruction = update_reconstruction(copy.deepcopy(reconstruction), rotation = rotation_align, origin=origin, scaling = scale)\n",
    "\n",
    "\n",
    "for cam in plot_mvvids.cams:\n",
    "    cam.calibration = cam.calib_from_reconstruction(reconstruction = temp_reconstruction)\n",
    "\n",
    "plot_3d_reconstruction(ax, \n",
    "                       temp_reconstruction, \n",
    "                       plot_mvvids,  \n",
    "                       ground_plane= ground_plane, \n",
    "                       inliers = Points(R.from_rotvec(np.radians(-rect[2]) * np.array([0, 0, 1])).apply(copy.deepcopy(translated_gpp[pyrsc_plane.inliers]))), \n",
    "                       num_samples = 1000)\n",
    "\n",
    "Points([plot_mvvids.cams[0].get_position()]).plot_3d(ax_3d=ax, c='g', s=50, \n",
    "                                   label='Camera centers')"
   ]
  },
  {
   "cell_type": "code",
   "execution_count": null,
   "metadata": {},
   "outputs": [],
   "source": []
  },
  {
   "cell_type": "code",
   "execution_count": 8,
   "metadata": {},
   "outputs": [
    {
     "ename": "NameError",
     "evalue": "name 'plot_mvvids' is not defined",
     "output_type": "error",
     "traceback": [
      "\u001b[0;31m---------------------------------------------------------------------------\u001b[0m",
      "\u001b[0;31mNameError\u001b[0m                                 Traceback (most recent call last)",
      "Cell \u001b[0;32mIn[8], line 12\u001b[0m\n\u001b[1;32m      9\u001b[0m input_img_size \u001b[38;5;241m=\u001b[39m (\u001b[38;5;241m1080\u001b[39m, \u001b[38;5;241m1920\u001b[39m) \u001b[38;5;66;03m# (1920*2, 1080*2)\u001b[39;00m\n\u001b[1;32m     11\u001b[0m for_reproj_error \u001b[38;5;241m=\u001b[39m \u001b[38;5;28;01mNone\u001b[39;00m\n\u001b[0;32m---> 12\u001b[0m \u001b[38;5;28;01mfor\u001b[39;00m cam \u001b[38;5;129;01min\u001b[39;00m \u001b[43mplot_mvvids\u001b[49m\u001b[38;5;241m.\u001b[39mcams:\n\u001b[1;32m     13\u001b[0m     img \u001b[38;5;241m=\u001b[39m copy\u001b[38;5;241m.\u001b[39mdeepcopy(base_frames[cam\u001b[38;5;241m.\u001b[39mname][\u001b[38;5;241m0\u001b[39m])\n\u001b[1;32m     14\u001b[0m     \u001b[38;5;66;03m# rescale image to 250x180\u001b[39;00m\n",
      "\u001b[0;31mNameError\u001b[0m: name 'plot_mvvids' is not defined"
     ]
    },
    {
     "data": {
      "application/vnd.jupyter.widget-view+json": {
       "model_id": "9557d8595e6343bca85bcc557fbeab2f",
       "version_major": 2,
       "version_minor": 0
      },
      "image/png": "[encoded data removed]",
      "text/html": [
       "\n",
       "            <div style=\"display: inline-block;\">\n",
       "                <div class=\"jupyter-widgets widget-label\" style=\"text-align: center;\">\n",
       "                    Figure\n",
       "                </div>\n",
       "                <img src='data:image/png;base64,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' width=640.0/>\n",
       "            </div>\n",
       "        "
      ],
      "text/plain": [
       "Canvas(toolbar=Toolbar(toolitems=[('Home', 'Reset original view', 'home', 'home'), ('Back', 'Back to previous …"
      ]
     },
     "metadata": {},
     "output_type": "display_data"
    },
    {
     "data": {
      "application/vnd.jupyter.widget-view+json": {
       "model_id": "80cd5d004c2a42a0ab65ba15b3f65e4f",
       "version_major": 2,
       "version_minor": 0
      },
      "image/png": "[encoded data removed]",
      "text/html": [
       "\n",
       "            <div style=\"display: inline-block;\">\n",
       "                <div class=\"jupyter-widgets widget-label\" style=\"text-align: center;\">\n",
       "                    Figure\n",
       "                </div>\n",
       "                <img src='data:image/png;base64,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' width=1000.0/>\n",
       "            </div>\n",
       "        "
      ],
      "text/plain": [
       "Canvas(toolbar=Toolbar(toolitems=[('Home', 'Reset original view', 'home', 'home'), ('Back', 'Back to previous …"
      ]
     },
     "metadata": {},
     "output_type": "display_data"
    }
   ],
   "source": [
    "plt.clf()\n",
    "\n",
    "fig, ax = plt.subplots(figsize=(10,10))\n",
    "alphas = [1.0, 0.7, 0.5,0.3]\n",
    "\n",
    "\n",
    "rect, _ = plot_mvvids.get_bounding_box(reconstruction = temp_reconstruction)\n",
    "output_img_size = (rect[1][1], rect[1][0])#(1920, 1080)\n",
    "input_img_size = (1080, 1920) # (1920*2, 1080*2)\n",
    "\n",
    "for_reproj_error = None\n",
    "for cam in plot_mvvids.cams:\n",
    "    img = copy.deepcopy(base_frames[cam.name][0])\n",
    "    # rescale image to 250x180\n",
    "    img = cv2.resize(img, (input_img_size[1], input_img_size[0]))\n",
    "    cam.calib_from_reconstruction(reconstruction = temp_reconstruction)\n",
    "    H = cam.get_ground_plane_homography(input_img_size=input_img_size, output_img_size = output_img_size, \n",
    "                                        bounding_box = rect, padding_percent = 0)\n",
    "    new_img = project_to_ground_plane_cv2(img, H, output_img_size)\n",
    "    ax.imshow(new_img, alpha = alphas[int(cam.calibration.view_id) - 1])"
   ]
  },
  {
   "cell_type": "code",
   "execution_count": null,
   "metadata": {},
   "outputs": [],
   "source": [
    "from pathlib import Path\n",
    "# Save updated reconstruction\n",
    "# new_reconstruction = update_reconstruction(copy.deepcopy(reconstruction), rotation = rotation, origin=origin, scaling = scale)\n",
    "new_reconstruction_path = os.path.join(data_root, '0-calibration', 'opensfm', 'reconstruction_new.json')\n",
    "write_json(new_reconstruction_path, [temp_reconstruction])\n",
    "\n",
    "# Save updated calibrations\n",
    "for camera in mvvids.cams:\n",
    "    print(f\"Saving calibration data for camera: {camera.name}\")\n",
    "    camera.calib_from_reconstruction(reconstruction = temp_reconstruction)\n",
    "    camera.calib_path =  Path(data_root) / '0-calibration' / 'calibs' / f'{camera.name}_new.json'\n",
    "    camera.calibration = camera.calibration._replace(ROI = roi_points[camera.name])\n",
    "    camera.calibration = camera.calibration._replace(bounding_box = rect)\n",
    "    camera.save_calibration(calibration = camera.calibration)"
   ]
  },
  {
   "cell_type": "code",
   "execution_count": null,
   "metadata": {},
   "outputs": [],
   "source": []
  }
 ],
 "metadata": {
  "kernelspec": {
   "display_name": "Python 3 (ipykernel)",
   "language": "python",
   "name": "python3"
  },
  "language_info": {
   "codemirror_mode": {
    "name": "ipython",
    "version": 3
   },
   "file_extension": ".py",
   "mimetype": "text/x-python",
   "name": "python",
   "nbconvert_exporter": "python",
   "pygments_lexer": "ipython3",
   "version": "3.10.12"
  }
 },
 "nbformat": 4,
 "nbformat_minor": 4
}
