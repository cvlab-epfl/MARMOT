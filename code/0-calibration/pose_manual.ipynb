{
 "cells": [
  {
   "cell_type": "markdown",
   "metadata": {},
   "source": [
    "# Pose Unposed Cameras"
   ]
  },
  {
   "cell_type": "code",
   "execution_count": 2,
   "metadata": {},
   "outputs": [
    {
     "name": "stdout",
     "output_type": "stream",
     "text": [
      "\u001b[32m11:38:12.371\u001b[0m - [...calibration\\..\\configs\\arguments.py:093] - \u001b[1;30mDEBUG   \u001b[0m - \u001b[32mNo training config file specified, using default config in data_root/2-training/train_config.yaml\u001b[0m\n"
     ]
    }
   ],
   "source": [
    "# load environment\n",
    "\n",
    "# Load Cameras\n",
    "\n",
    "import os\n",
    "import sys\n",
    "import numpy as np\n",
    "import json\n",
    "\n",
    "sys.path.append('..')\n",
    "from configs.arguments import get_config_dict\n",
    "from utils.multiview_utils import Camera, Calibration, MultiviewVids\n",
    "from utils.io_utils import write_json, load_json\n",
    "from utils.metadata_utils import get_cam_names\n",
    "from utils.coordinate_utils import update_reconstruction, point_in_polygon, project_to_ground_plane_cv2\n",
    "from utils.plot_utils import rotation_matrix, perp\n",
    "\n",
    "from scipy.spatial.transform import Rotation as R\n",
    "from skspatial.objects import Point, Vector, Plane, Points, Line\n",
    "import pyransac3d as pyrsc\n",
    "\n",
    "import copy\n",
    "import cv2\n",
    "import ipywidgets as widgets\n",
    "import ipympl\n",
    "import matplotlib.pyplot as plt\n",
    "%matplotlib widget\n",
    "\n",
    "\n",
    "\n",
    "\n",
    "arv_copy = sys.argv\n",
    "sys.argv = ['pop']\n",
    "sys.argv.append('-cfg')\n",
    "config_path = os.path.abspath('../../project_config.yaml')\n",
    "sys.argv.append(config_path)\n",
    "sys.argv.append('-dr')\n",
    "root_path = os.path.abspath('../../data/')\n",
    "sys.argv.append(root_path)\n",
    "sys.argv.append('-l')\n",
    "sys.argv.append('info')\n",
    "\n",
    "# load arguments from the arg parser\n",
    "config = get_config_dict()\n",
    "data_root = config[\"main\"][\"data_root\"]\n",
    "calib_dir = os.path.join(data_root, '0-calibration', 'calibs')\n",
    "video_dir = os.path.join(data_root, 'raw_data', 'footage')\n",
    "# reconstruction_dir = os.path.join(data_root, '0-calibration', 'opensfm', 'undistorted', 'reconstruction.json')\n",
    "# omni_tag = '360'\n",
    "\n",
    "\n",
    "# reconstruction_dir = os.path.join(data_root, '0-calibration', 'opensfm', 'reconstruction.json')\n",
    "# if not os.path.exists(reconstruction_dir):\n",
    "#     print( \"Reconstruction not found. Please run 0-calibration/2-extrinsics.py first.\")\n",
    "    "
   ]
  },
  {
   "cell_type": "markdown",
   "metadata": {},
   "source": [
    "## Select interval to examine\n"
   ]
  },
  {
   "cell_type": "code",
   "execution_count": null,
   "metadata": {},
   "outputs": [],
   "source": [
    "# load interval json\n",
    "interval_json = os.path.join(data_root, '0-calibration', 'calibs', 'interval.json')\n",
    "\n",
    "# select_interval \n",
    "interval_idx = 0\n",
    "interval_json = load_json(interval_json)\n",
    "interval = interval_json[interval_json.keys()[interval_idx]]\n",
    "\n",
    "# load cameras\n",
    "cam_names = interval['cameras']\n",
    "\n",
    "# load interval reconstruction\n",
    "reconstruction = load_json(reconstruction_dir / interval_json.keys()[interval_idx])\n",
    "\n",
    "# load calibrated cameras\n",
    "calibrated_cameras = {}\n",
    "for cam_name in cam_names:\n",
    "    calib_path = os.path.join(calib_dir, cam_name + '.json')\n",
    "    calib = load_json(calib_path)\n",
    "    calibrated_cameras[cam_name] = calib\n",
    "\n",
    "\n",
    "# load unposed cameras\n",
    "unposed_cameras = {}\n",
    "for cam_name in cam_names:\n",
    "    if cam_name not in reconstruction['cameras']:\n",
    "        unposed_cameras[cam_name] = calibrated_cameras[cam_name]"
   ]
  },
  {
   "cell_type": "code",
   "execution_count": 57,
   "metadata": {},
   "outputs": [
    {
     "data": {
      "application/vnd.jupyter.widget-view+json": {
       "model_id": "c45d3530cba54a37a02f5cfbebd41ffd",
       "version_major": 2,
       "version_minor": 0
      },
      "text/plain": [
       "Dropdown(description='Interval:', index=4, options=('calibs', 'calibs_old', 'first_frame.json', 'frames', 'ope…"
      ]
     },
     "metadata": {},
     "output_type": "display_data"
    },
    {
     "name": "stdout",
     "output_type": "stream",
     "text": [
      "frames\n",
      "Reconstruction not found. Please run 0-calibration/2-extrinsics.py for this interval first.\n",
      "opensfm\n",
      "cam1 dict_keys(['cam360_1768.jpg_perspective_view_bottom.jpg', 'cam360_1768.jpg_perspective_view_front.jpg', 'cam360_1872.jpg_perspective_view_bottom.jpg', 'cam360_1872.jpg_perspective_view_right.jpg', 'cam360_1872.jpg_perspective_view_left.jpg', 'cam360_1355.jpg_perspective_view_top.jpg', 'cam360_1975.jpg_perspective_view_top.jpg', 'cam360_1975.jpg_perspective_view_back.jpg', 'cam360_2182.jpg_perspective_view_bottom.jpg', 'cam360_2182.jpg_perspective_view_back.jpg', 'cam360_2182.jpg_perspective_view_front.jpg', 'cam360_2182.jpg_perspective_view_right.jpg', 'cam360_1665.jpg_perspective_view_right.jpg', 'cam360_1665.jpg_perspective_view_back.jpg', 'cam360_1665.jpg_perspective_view_left.jpg', 'cam360_1665.jpg_perspective_view_front.jpg', 'cam360_1406.jpg_perspective_view_bottom.jpg', 'cam360_1406.jpg_perspective_view_top.jpg', 'cam360_1406.jpg_perspective_view_right.jpg', 'cam360_1406.jpg_perspective_view_back.jpg', 'cam360_1406.jpg_perspective_view_left.jpg', 'cam360_2441.jpg_perspective_view_top.jpg', 'cam360_1355.jpg_perspective_view_back.jpg', 'cam360_2441.jpg_perspective_view_right.jpg', 'cam360_2441.jpg_perspective_view_back.jpg', 'cam360_2441.jpg_perspective_view_left.jpg', 'cam360_1820.jpg_perspective_view_back.jpg', 'cam360_1975.jpg_perspective_view_bottom.jpg', 'cam360_1562.jpg_perspective_view_bottom.jpg', 'cam360_1562.jpg_perspective_view_top.jpg', 'cam360_1562.jpg_perspective_view_left.jpg', 'cam360_1924.jpg_perspective_view_back.jpg', 'cam360_2648.jpg_perspective_view_bottom.jpg', 'cam360_1924.jpg_perspective_view_right.jpg', 'cam360_2493.jpg_perspective_view_top.jpg', 'cam360_1303.jpg_perspective_view_back.jpg', 'cam360_1303.jpg_perspective_view_front.jpg', 'cam360_2648.jpg_perspective_view_top.jpg', 'cam360_2286.jpg_perspective_view_back.jpg', 'cam1_400.jpg', 'cam360_1303.jpg_perspective_view_top.jpg', 'cam360_2234.jpg_perspective_view_top.jpg', 'cam360_1820.jpg_perspective_view_bottom.jpg', 'cam360_2234.jpg_perspective_view_back.jpg', 'cam360_1872.jpg_perspective_view_top.jpg', 'cam360_1872.jpg_perspective_view_front.jpg', 'cam360_2234.jpg_perspective_view_front.jpg', 'cam360_1458.jpg_perspective_view_right.jpg', 'cam360_1924.jpg_perspective_view_left.jpg', 'cam360_2182.jpg_perspective_view_top.jpg', 'cam360_2441.jpg_perspective_view_front.jpg', 'cam360_1717.jpg_perspective_view_top.jpg', 'cam1_300.jpg', 'cam360_2596.jpg_perspective_view_right.jpg', 'cam360_1251.jpg_perspective_view_bottom.jpg', 'cam360_2286.jpg_perspective_view_bottom.jpg', 'cam360_1717.jpg_perspective_view_right.jpg', 'cam360_1717.jpg_perspective_view_front.jpg', 'cam360_1768.jpg_perspective_view_top.jpg', 'cam360_1510.jpg_perspective_view_top.jpg', 'cam360_1458.jpg_perspective_view_top.jpg', 'cam360_1717.jpg_perspective_view_left.jpg', 'cam360_1355.jpg_perspective_view_left.jpg', 'cam360_1303.jpg_perspective_view_right.jpg', 'cam360_1665.jpg_perspective_view_bottom.jpg', 'cam360_1200.jpg_perspective_view_top.jpg', 'cam360_2389.jpg_perspective_view_back.jpg', 'cam360_1458.jpg_perspective_view_bottom.jpg', 'cam360_1924.jpg_perspective_view_bottom.jpg', 'cam360_2234.jpg_perspective_view_right.jpg', 'cam360_2700.jpg_perspective_view_top.jpg', 'cam360_1510.jpg_perspective_view_left.jpg', 'cam360_1975.jpg_perspective_view_right.jpg', 'cam360_2337.jpg_perspective_view_left.jpg', 'cam360_2441.jpg_perspective_view_bottom.jpg', 'cam2_100.jpg', 'cam360_2234.jpg_perspective_view_left.jpg', 'cam360_1613.jpg_perspective_view_left.jpg', 'cam360_1768.jpg_perspective_view_left.jpg', 'cam360_2544.jpg_perspective_view_back.jpg', 'cam360_1200.jpg_perspective_view_right.jpg', 'cam360_2337.jpg_perspective_view_front.jpg', 'cam360_1975.jpg_perspective_view_left.jpg', 'cam360_2596.jpg_perspective_view_front.jpg', 'cam360_1510.jpg_perspective_view_right.jpg', 'cam360_2131.jpg_perspective_view_front.jpg', 'cam360_1200.jpg_perspective_view_back.jpg', 'cam360_1562.jpg_perspective_view_back.jpg', 'cam360_2648.jpg_perspective_view_front.jpg', 'cam360_2027.jpg_perspective_view_bottom.jpg', 'cam360_1665.jpg_perspective_view_top.jpg', 'cam360_1510.jpg_perspective_view_bottom.jpg', 'cam360_1355.jpg_perspective_view_right.jpg', 'cam360_2286.jpg_perspective_view_left.jpg', 'cam360_2493.jpg_perspective_view_right.jpg', 'cam360_1200.jpg_perspective_view_front.jpg', 'cam360_2700.jpg_perspective_view_front.jpg', 'cam360_2286.jpg_perspective_view_top.jpg', 'cam360_1613.jpg_perspective_view_back.jpg', 'cam360_1820.jpg_perspective_view_right.jpg', 'cam360_2337.jpg_perspective_view_top.jpg', 'cam360_1251.jpg_perspective_view_top.jpg', 'cam360_1200.jpg_perspective_view_bottom.jpg', 'cam360_1975.jpg_perspective_view_front.jpg', 'cam360_1251.jpg_perspective_view_left.jpg', 'cam360_1613.jpg_perspective_view_front.jpg', 'cam2_200.jpg', 'cam360_2648.jpg_perspective_view_left.jpg', 'cam360_1768.jpg_perspective_view_right.jpg', 'cam360_2389.jpg_perspective_view_front.jpg', 'cam360_2182.jpg_perspective_view_left.jpg', 'cam360_1303.jpg_perspective_view_left.jpg', 'cam360_2286.jpg_perspective_view_right.jpg', 'cam360_2544.jpg_perspective_view_front.jpg', 'cam2_300.jpg', 'cam360_2079.jpg_perspective_view_front.jpg', 'cam360_2131.jpg_perspective_view_back.jpg', 'cam360_1510.jpg_perspective_view_back.jpg', 'cam360_2544.jpg_perspective_view_right.jpg', 'cam360_1613.jpg_perspective_view_top.jpg', 'cam360_2079.jpg_perspective_view_right.jpg', 'cam360_1562.jpg_perspective_view_right.jpg', 'cam360_2234.jpg_perspective_view_bottom.jpg', 'cam360_2286.jpg_perspective_view_front.jpg', 'cam360_1613.jpg_perspective_view_bottom.jpg', 'cam360_1458.jpg_perspective_view_front.jpg', 'cam1_200.jpg', 'cam360_1355.jpg_perspective_view_front.jpg', 'cam360_1924.jpg_perspective_view_top.jpg', 'cam360_2079.jpg_perspective_view_top.jpg', 'cam360_1717.jpg_perspective_view_bottom.jpg', 'cam360_2596.jpg_perspective_view_bottom.jpg', 'cam360_2544.jpg_perspective_view_left.jpg', 'cam360_1355.jpg_perspective_view_bottom.jpg', 'cam360_1820.jpg_perspective_view_top.jpg', 'cam360_2131.jpg_perspective_view_top.jpg', 'cam360_2389.jpg_perspective_view_top.jpg', 'cam360_2389.jpg_perspective_view_bottom.jpg', 'cam360_2700.jpg_perspective_view_left.jpg', 'cam360_2700.jpg_perspective_view_back.jpg', 'cam360_2700.jpg_perspective_view_right.jpg', 'cam360_2700.jpg_perspective_view_bottom.jpg', 'cam360_1872.jpg_perspective_view_back.jpg', 'cam2_400.jpg', 'cam360_1613.jpg_perspective_view_right.jpg', 'cam360_2337.jpg_perspective_view_back.jpg', 'cam360_2337.jpg_perspective_view_right.jpg', 'cam360_1510.jpg_perspective_view_front.jpg', 'cam360_2337.jpg_perspective_view_bottom.jpg', 'cam360_2389.jpg_perspective_view_right.jpg', 'cam360_2544.jpg_perspective_view_top.jpg', 'cam360_2544.jpg_perspective_view_bottom.jpg', 'cam360_1251.jpg_perspective_view_right.jpg', 'cam360_2131.jpg_perspective_view_left.jpg', 'cam360_1251.jpg_perspective_view_front.jpg', 'cam360_2079.jpg_perspective_view_back.jpg', 'cam360_1303.jpg_perspective_view_bottom.jpg', 'cam1_100.jpg', 'cam360_2027.jpg_perspective_view_back.jpg', 'cam360_1458.jpg_perspective_view_left.jpg', 'cam360_1458.jpg_perspective_view_back.jpg', 'cam360_1768.jpg_perspective_view_back.jpg', 'cam360_2131.jpg_perspective_view_right.jpg', 'cam360_1820.jpg_perspective_view_front.jpg', 'cam360_1251.jpg_perspective_view_back.jpg', 'cam360_2131.jpg_perspective_view_bottom.jpg', 'cam360_2027.jpg_perspective_view_front.jpg', 'cam360_2389.jpg_perspective_view_left.jpg', 'cam360_2027.jpg_perspective_view_left.jpg', 'cam360_1820.jpg_perspective_view_left.jpg', 'cam360_1924.jpg_perspective_view_front.jpg', 'cam360_1717.jpg_perspective_view_back.jpg', 'cam360_2027.jpg_perspective_view_right.jpg', 'cam360_2027.jpg_perspective_view_top.jpg', 'cam360_2079.jpg_perspective_view_left.jpg', 'cam360_2648.jpg_perspective_view_back.jpg', 'cam360_2079.jpg_perspective_view_bottom.jpg', 'cam360_2596.jpg_perspective_view_left.jpg', 'cam360_2596.jpg_perspective_view_back.jpg', 'cam360_1406.jpg_perspective_view_front.jpg', 'cam360_2648.jpg_perspective_view_right.jpg', 'cam360_2596.jpg_perspective_view_top.jpg', 'cam360_1562.jpg_perspective_view_front.jpg', 'cam360_1200.jpg_perspective_view_left.jpg', 'cam360_2493.jpg_perspective_view_front.jpg', 'cam360_2493.jpg_perspective_view_left.jpg', 'cam360_2493.jpg_perspective_view_back.jpg', 'cam360_2493.jpg_perspective_view_bottom.jpg'])\n",
      "cam2 dict_keys(['cam360_1768.jpg_perspective_view_bottom.jpg', 'cam360_1768.jpg_perspective_view_front.jpg', 'cam360_1872.jpg_perspective_view_bottom.jpg', 'cam360_1872.jpg_perspective_view_right.jpg', 'cam360_1872.jpg_perspective_view_left.jpg', 'cam360_1355.jpg_perspective_view_top.jpg', 'cam360_1975.jpg_perspective_view_top.jpg', 'cam360_1975.jpg_perspective_view_back.jpg', 'cam360_2182.jpg_perspective_view_bottom.jpg', 'cam360_2182.jpg_perspective_view_back.jpg', 'cam360_2182.jpg_perspective_view_front.jpg', 'cam360_2182.jpg_perspective_view_right.jpg', 'cam360_1665.jpg_perspective_view_right.jpg', 'cam360_1665.jpg_perspective_view_back.jpg', 'cam360_1665.jpg_perspective_view_left.jpg', 'cam360_1665.jpg_perspective_view_front.jpg', 'cam360_1406.jpg_perspective_view_bottom.jpg', 'cam360_1406.jpg_perspective_view_top.jpg', 'cam360_1406.jpg_perspective_view_right.jpg', 'cam360_1406.jpg_perspective_view_back.jpg', 'cam360_1406.jpg_perspective_view_left.jpg', 'cam360_2441.jpg_perspective_view_top.jpg', 'cam360_1355.jpg_perspective_view_back.jpg', 'cam360_2441.jpg_perspective_view_right.jpg', 'cam360_2441.jpg_perspective_view_back.jpg', 'cam360_2441.jpg_perspective_view_left.jpg', 'cam360_1820.jpg_perspective_view_back.jpg', 'cam360_1975.jpg_perspective_view_bottom.jpg', 'cam360_1562.jpg_perspective_view_bottom.jpg', 'cam360_1562.jpg_perspective_view_top.jpg', 'cam360_1562.jpg_perspective_view_left.jpg', 'cam360_1924.jpg_perspective_view_back.jpg', 'cam360_2648.jpg_perspective_view_bottom.jpg', 'cam360_1924.jpg_perspective_view_right.jpg', 'cam360_2493.jpg_perspective_view_top.jpg', 'cam360_1303.jpg_perspective_view_back.jpg', 'cam360_1303.jpg_perspective_view_front.jpg', 'cam360_2648.jpg_perspective_view_top.jpg', 'cam360_2286.jpg_perspective_view_back.jpg', 'cam1_400.jpg', 'cam360_1303.jpg_perspective_view_top.jpg', 'cam360_2234.jpg_perspective_view_top.jpg', 'cam360_1820.jpg_perspective_view_bottom.jpg', 'cam360_2234.jpg_perspective_view_back.jpg', 'cam360_1872.jpg_perspective_view_top.jpg', 'cam360_1872.jpg_perspective_view_front.jpg', 'cam360_2234.jpg_perspective_view_front.jpg', 'cam360_1458.jpg_perspective_view_right.jpg', 'cam360_1924.jpg_perspective_view_left.jpg', 'cam360_2182.jpg_perspective_view_top.jpg', 'cam360_2441.jpg_perspective_view_front.jpg', 'cam360_1717.jpg_perspective_view_top.jpg', 'cam1_300.jpg', 'cam360_2596.jpg_perspective_view_right.jpg', 'cam360_1251.jpg_perspective_view_bottom.jpg', 'cam360_2286.jpg_perspective_view_bottom.jpg', 'cam360_1717.jpg_perspective_view_right.jpg', 'cam360_1717.jpg_perspective_view_front.jpg', 'cam360_1768.jpg_perspective_view_top.jpg', 'cam360_1510.jpg_perspective_view_top.jpg', 'cam360_1458.jpg_perspective_view_top.jpg', 'cam360_1717.jpg_perspective_view_left.jpg', 'cam360_1355.jpg_perspective_view_left.jpg', 'cam360_1303.jpg_perspective_view_right.jpg', 'cam360_1665.jpg_perspective_view_bottom.jpg', 'cam360_1200.jpg_perspective_view_top.jpg', 'cam360_2389.jpg_perspective_view_back.jpg', 'cam360_1458.jpg_perspective_view_bottom.jpg', 'cam360_1924.jpg_perspective_view_bottom.jpg', 'cam360_2234.jpg_perspective_view_right.jpg', 'cam360_2700.jpg_perspective_view_top.jpg', 'cam360_1510.jpg_perspective_view_left.jpg', 'cam360_1975.jpg_perspective_view_right.jpg', 'cam360_2337.jpg_perspective_view_left.jpg', 'cam360_2441.jpg_perspective_view_bottom.jpg', 'cam2_100.jpg', 'cam360_2234.jpg_perspective_view_left.jpg', 'cam360_1613.jpg_perspective_view_left.jpg', 'cam360_1768.jpg_perspective_view_left.jpg', 'cam360_2544.jpg_perspective_view_back.jpg', 'cam360_1200.jpg_perspective_view_right.jpg', 'cam360_2337.jpg_perspective_view_front.jpg', 'cam360_1975.jpg_perspective_view_left.jpg', 'cam360_2596.jpg_perspective_view_front.jpg', 'cam360_1510.jpg_perspective_view_right.jpg', 'cam360_2131.jpg_perspective_view_front.jpg', 'cam360_1200.jpg_perspective_view_back.jpg', 'cam360_1562.jpg_perspective_view_back.jpg', 'cam360_2648.jpg_perspective_view_front.jpg', 'cam360_2027.jpg_perspective_view_bottom.jpg', 'cam360_1665.jpg_perspective_view_top.jpg', 'cam360_1510.jpg_perspective_view_bottom.jpg', 'cam360_1355.jpg_perspective_view_right.jpg', 'cam360_2286.jpg_perspective_view_left.jpg', 'cam360_2493.jpg_perspective_view_right.jpg', 'cam360_1200.jpg_perspective_view_front.jpg', 'cam360_2700.jpg_perspective_view_front.jpg', 'cam360_2286.jpg_perspective_view_top.jpg', 'cam360_1613.jpg_perspective_view_back.jpg', 'cam360_1820.jpg_perspective_view_right.jpg', 'cam360_2337.jpg_perspective_view_top.jpg', 'cam360_1251.jpg_perspective_view_top.jpg', 'cam360_1200.jpg_perspective_view_bottom.jpg', 'cam360_1975.jpg_perspective_view_front.jpg', 'cam360_1251.jpg_perspective_view_left.jpg', 'cam360_1613.jpg_perspective_view_front.jpg', 'cam2_200.jpg', 'cam360_2648.jpg_perspective_view_left.jpg', 'cam360_1768.jpg_perspective_view_right.jpg', 'cam360_2389.jpg_perspective_view_front.jpg', 'cam360_2182.jpg_perspective_view_left.jpg', 'cam360_1303.jpg_perspective_view_left.jpg', 'cam360_2286.jpg_perspective_view_right.jpg', 'cam360_2544.jpg_perspective_view_front.jpg', 'cam2_300.jpg', 'cam360_2079.jpg_perspective_view_front.jpg', 'cam360_2131.jpg_perspective_view_back.jpg', 'cam360_1510.jpg_perspective_view_back.jpg', 'cam360_2544.jpg_perspective_view_right.jpg', 'cam360_1613.jpg_perspective_view_top.jpg', 'cam360_2079.jpg_perspective_view_right.jpg', 'cam360_1562.jpg_perspective_view_right.jpg', 'cam360_2234.jpg_perspective_view_bottom.jpg', 'cam360_2286.jpg_perspective_view_front.jpg', 'cam360_1613.jpg_perspective_view_bottom.jpg', 'cam360_1458.jpg_perspective_view_front.jpg', 'cam1_200.jpg', 'cam360_1355.jpg_perspective_view_front.jpg', 'cam360_1924.jpg_perspective_view_top.jpg', 'cam360_2079.jpg_perspective_view_top.jpg', 'cam360_1717.jpg_perspective_view_bottom.jpg', 'cam360_2596.jpg_perspective_view_bottom.jpg', 'cam360_2544.jpg_perspective_view_left.jpg', 'cam360_1355.jpg_perspective_view_bottom.jpg', 'cam360_1820.jpg_perspective_view_top.jpg', 'cam360_2131.jpg_perspective_view_top.jpg', 'cam360_2389.jpg_perspective_view_top.jpg', 'cam360_2389.jpg_perspective_view_bottom.jpg', 'cam360_2700.jpg_perspective_view_left.jpg', 'cam360_2700.jpg_perspective_view_back.jpg', 'cam360_2700.jpg_perspective_view_right.jpg', 'cam360_2700.jpg_perspective_view_bottom.jpg', 'cam360_1872.jpg_perspective_view_back.jpg', 'cam2_400.jpg', 'cam360_1613.jpg_perspective_view_right.jpg', 'cam360_2337.jpg_perspective_view_back.jpg', 'cam360_2337.jpg_perspective_view_right.jpg', 'cam360_1510.jpg_perspective_view_front.jpg', 'cam360_2337.jpg_perspective_view_bottom.jpg', 'cam360_2389.jpg_perspective_view_right.jpg', 'cam360_2544.jpg_perspective_view_top.jpg', 'cam360_2544.jpg_perspective_view_bottom.jpg', 'cam360_1251.jpg_perspective_view_right.jpg', 'cam360_2131.jpg_perspective_view_left.jpg', 'cam360_1251.jpg_perspective_view_front.jpg', 'cam360_2079.jpg_perspective_view_back.jpg', 'cam360_1303.jpg_perspective_view_bottom.jpg', 'cam1_100.jpg', 'cam360_2027.jpg_perspective_view_back.jpg', 'cam360_1458.jpg_perspective_view_left.jpg', 'cam360_1458.jpg_perspective_view_back.jpg', 'cam360_1768.jpg_perspective_view_back.jpg', 'cam360_2131.jpg_perspective_view_right.jpg', 'cam360_1820.jpg_perspective_view_front.jpg', 'cam360_1251.jpg_perspective_view_back.jpg', 'cam360_2131.jpg_perspective_view_bottom.jpg', 'cam360_2027.jpg_perspective_view_front.jpg', 'cam360_2389.jpg_perspective_view_left.jpg', 'cam360_2027.jpg_perspective_view_left.jpg', 'cam360_1820.jpg_perspective_view_left.jpg', 'cam360_1924.jpg_perspective_view_front.jpg', 'cam360_1717.jpg_perspective_view_back.jpg', 'cam360_2027.jpg_perspective_view_right.jpg', 'cam360_2027.jpg_perspective_view_top.jpg', 'cam360_2079.jpg_perspective_view_left.jpg', 'cam360_2648.jpg_perspective_view_back.jpg', 'cam360_2079.jpg_perspective_view_bottom.jpg', 'cam360_2596.jpg_perspective_view_left.jpg', 'cam360_2596.jpg_perspective_view_back.jpg', 'cam360_1406.jpg_perspective_view_front.jpg', 'cam360_2648.jpg_perspective_view_right.jpg', 'cam360_2596.jpg_perspective_view_top.jpg', 'cam360_1562.jpg_perspective_view_front.jpg', 'cam360_1200.jpg_perspective_view_left.jpg', 'cam360_2493.jpg_perspective_view_front.jpg', 'cam360_2493.jpg_perspective_view_left.jpg', 'cam360_2493.jpg_perspective_view_back.jpg', 'cam360_2493.jpg_perspective_view_bottom.jpg'])\n",
      "perspective dict_keys(['cam360_1768.jpg_perspective_view_bottom.jpg', 'cam360_1768.jpg_perspective_view_front.jpg', 'cam360_1872.jpg_perspective_view_bottom.jpg', 'cam360_1872.jpg_perspective_view_right.jpg', 'cam360_1872.jpg_perspective_view_left.jpg', 'cam360_1355.jpg_perspective_view_top.jpg', 'cam360_1975.jpg_perspective_view_top.jpg', 'cam360_1975.jpg_perspective_view_back.jpg', 'cam360_2182.jpg_perspective_view_bottom.jpg', 'cam360_2182.jpg_perspective_view_back.jpg', 'cam360_2182.jpg_perspective_view_front.jpg', 'cam360_2182.jpg_perspective_view_right.jpg', 'cam360_1665.jpg_perspective_view_right.jpg', 'cam360_1665.jpg_perspective_view_back.jpg', 'cam360_1665.jpg_perspective_view_left.jpg', 'cam360_1665.jpg_perspective_view_front.jpg', 'cam360_1406.jpg_perspective_view_bottom.jpg', 'cam360_1406.jpg_perspective_view_top.jpg', 'cam360_1406.jpg_perspective_view_right.jpg', 'cam360_1406.jpg_perspective_view_back.jpg', 'cam360_1406.jpg_perspective_view_left.jpg', 'cam360_2441.jpg_perspective_view_top.jpg', 'cam360_1355.jpg_perspective_view_back.jpg', 'cam360_2441.jpg_perspective_view_right.jpg', 'cam360_2441.jpg_perspective_view_back.jpg', 'cam360_2441.jpg_perspective_view_left.jpg', 'cam360_1820.jpg_perspective_view_back.jpg', 'cam360_1975.jpg_perspective_view_bottom.jpg', 'cam360_1562.jpg_perspective_view_bottom.jpg', 'cam360_1562.jpg_perspective_view_top.jpg', 'cam360_1562.jpg_perspective_view_left.jpg', 'cam360_1924.jpg_perspective_view_back.jpg', 'cam360_2648.jpg_perspective_view_bottom.jpg', 'cam360_1924.jpg_perspective_view_right.jpg', 'cam360_2493.jpg_perspective_view_top.jpg', 'cam360_1303.jpg_perspective_view_back.jpg', 'cam360_1303.jpg_perspective_view_front.jpg', 'cam360_2648.jpg_perspective_view_top.jpg', 'cam360_2286.jpg_perspective_view_back.jpg', 'cam1_400.jpg', 'cam360_1303.jpg_perspective_view_top.jpg', 'cam360_2234.jpg_perspective_view_top.jpg', 'cam360_1820.jpg_perspective_view_bottom.jpg', 'cam360_2234.jpg_perspective_view_back.jpg', 'cam360_1872.jpg_perspective_view_top.jpg', 'cam360_1872.jpg_perspective_view_front.jpg', 'cam360_2234.jpg_perspective_view_front.jpg', 'cam360_1458.jpg_perspective_view_right.jpg', 'cam360_1924.jpg_perspective_view_left.jpg', 'cam360_2182.jpg_perspective_view_top.jpg', 'cam360_2441.jpg_perspective_view_front.jpg', 'cam360_1717.jpg_perspective_view_top.jpg', 'cam1_300.jpg', 'cam360_2596.jpg_perspective_view_right.jpg', 'cam360_1251.jpg_perspective_view_bottom.jpg', 'cam360_2286.jpg_perspective_view_bottom.jpg', 'cam360_1717.jpg_perspective_view_right.jpg', 'cam360_1717.jpg_perspective_view_front.jpg', 'cam360_1768.jpg_perspective_view_top.jpg', 'cam360_1510.jpg_perspective_view_top.jpg', 'cam360_1458.jpg_perspective_view_top.jpg', 'cam360_1717.jpg_perspective_view_left.jpg', 'cam360_1355.jpg_perspective_view_left.jpg', 'cam360_1303.jpg_perspective_view_right.jpg', 'cam360_1665.jpg_perspective_view_bottom.jpg', 'cam360_1200.jpg_perspective_view_top.jpg', 'cam360_2389.jpg_perspective_view_back.jpg', 'cam360_1458.jpg_perspective_view_bottom.jpg', 'cam360_1924.jpg_perspective_view_bottom.jpg', 'cam360_2234.jpg_perspective_view_right.jpg', 'cam360_2700.jpg_perspective_view_top.jpg', 'cam360_1510.jpg_perspective_view_left.jpg', 'cam360_1975.jpg_perspective_view_right.jpg', 'cam360_2337.jpg_perspective_view_left.jpg', 'cam360_2441.jpg_perspective_view_bottom.jpg', 'cam2_100.jpg', 'cam360_2234.jpg_perspective_view_left.jpg', 'cam360_1613.jpg_perspective_view_left.jpg', 'cam360_1768.jpg_perspective_view_left.jpg', 'cam360_2544.jpg_perspective_view_back.jpg', 'cam360_1200.jpg_perspective_view_right.jpg', 'cam360_2337.jpg_perspective_view_front.jpg', 'cam360_1975.jpg_perspective_view_left.jpg', 'cam360_2596.jpg_perspective_view_front.jpg', 'cam360_1510.jpg_perspective_view_right.jpg', 'cam360_2131.jpg_perspective_view_front.jpg', 'cam360_1200.jpg_perspective_view_back.jpg', 'cam360_1562.jpg_perspective_view_back.jpg', 'cam360_2648.jpg_perspective_view_front.jpg', 'cam360_2027.jpg_perspective_view_bottom.jpg', 'cam360_1665.jpg_perspective_view_top.jpg', 'cam360_1510.jpg_perspective_view_bottom.jpg', 'cam360_1355.jpg_perspective_view_right.jpg', 'cam360_2286.jpg_perspective_view_left.jpg', 'cam360_2493.jpg_perspective_view_right.jpg', 'cam360_1200.jpg_perspective_view_front.jpg', 'cam360_2700.jpg_perspective_view_front.jpg', 'cam360_2286.jpg_perspective_view_top.jpg', 'cam360_1613.jpg_perspective_view_back.jpg', 'cam360_1820.jpg_perspective_view_right.jpg', 'cam360_2337.jpg_perspective_view_top.jpg', 'cam360_1251.jpg_perspective_view_top.jpg', 'cam360_1200.jpg_perspective_view_bottom.jpg', 'cam360_1975.jpg_perspective_view_front.jpg', 'cam360_1251.jpg_perspective_view_left.jpg', 'cam360_1613.jpg_perspective_view_front.jpg', 'cam2_200.jpg', 'cam360_2648.jpg_perspective_view_left.jpg', 'cam360_1768.jpg_perspective_view_right.jpg', 'cam360_2389.jpg_perspective_view_front.jpg', 'cam360_2182.jpg_perspective_view_left.jpg', 'cam360_1303.jpg_perspective_view_left.jpg', 'cam360_2286.jpg_perspective_view_right.jpg', 'cam360_2544.jpg_perspective_view_front.jpg', 'cam2_300.jpg', 'cam360_2079.jpg_perspective_view_front.jpg', 'cam360_2131.jpg_perspective_view_back.jpg', 'cam360_1510.jpg_perspective_view_back.jpg', 'cam360_2544.jpg_perspective_view_right.jpg', 'cam360_1613.jpg_perspective_view_top.jpg', 'cam360_2079.jpg_perspective_view_right.jpg', 'cam360_1562.jpg_perspective_view_right.jpg', 'cam360_2234.jpg_perspective_view_bottom.jpg', 'cam360_2286.jpg_perspective_view_front.jpg', 'cam360_1613.jpg_perspective_view_bottom.jpg', 'cam360_1458.jpg_perspective_view_front.jpg', 'cam1_200.jpg', 'cam360_1355.jpg_perspective_view_front.jpg', 'cam360_1924.jpg_perspective_view_top.jpg', 'cam360_2079.jpg_perspective_view_top.jpg', 'cam360_1717.jpg_perspective_view_bottom.jpg', 'cam360_2596.jpg_perspective_view_bottom.jpg', 'cam360_2544.jpg_perspective_view_left.jpg', 'cam360_1355.jpg_perspective_view_bottom.jpg', 'cam360_1820.jpg_perspective_view_top.jpg', 'cam360_2131.jpg_perspective_view_top.jpg', 'cam360_2389.jpg_perspective_view_top.jpg', 'cam360_2389.jpg_perspective_view_bottom.jpg', 'cam360_2700.jpg_perspective_view_left.jpg', 'cam360_2700.jpg_perspective_view_back.jpg', 'cam360_2700.jpg_perspective_view_right.jpg', 'cam360_2700.jpg_perspective_view_bottom.jpg', 'cam360_1872.jpg_perspective_view_back.jpg', 'cam2_400.jpg', 'cam360_1613.jpg_perspective_view_right.jpg', 'cam360_2337.jpg_perspective_view_back.jpg', 'cam360_2337.jpg_perspective_view_right.jpg', 'cam360_1510.jpg_perspective_view_front.jpg', 'cam360_2337.jpg_perspective_view_bottom.jpg', 'cam360_2389.jpg_perspective_view_right.jpg', 'cam360_2544.jpg_perspective_view_top.jpg', 'cam360_2544.jpg_perspective_view_bottom.jpg', 'cam360_1251.jpg_perspective_view_right.jpg', 'cam360_2131.jpg_perspective_view_left.jpg', 'cam360_1251.jpg_perspective_view_front.jpg', 'cam360_2079.jpg_perspective_view_back.jpg', 'cam360_1303.jpg_perspective_view_bottom.jpg', 'cam1_100.jpg', 'cam360_2027.jpg_perspective_view_back.jpg', 'cam360_1458.jpg_perspective_view_left.jpg', 'cam360_1458.jpg_perspective_view_back.jpg', 'cam360_1768.jpg_perspective_view_back.jpg', 'cam360_2131.jpg_perspective_view_right.jpg', 'cam360_1820.jpg_perspective_view_front.jpg', 'cam360_1251.jpg_perspective_view_back.jpg', 'cam360_2131.jpg_perspective_view_bottom.jpg', 'cam360_2027.jpg_perspective_view_front.jpg', 'cam360_2389.jpg_perspective_view_left.jpg', 'cam360_2027.jpg_perspective_view_left.jpg', 'cam360_1820.jpg_perspective_view_left.jpg', 'cam360_1924.jpg_perspective_view_front.jpg', 'cam360_1717.jpg_perspective_view_back.jpg', 'cam360_2027.jpg_perspective_view_right.jpg', 'cam360_2027.jpg_perspective_view_top.jpg', 'cam360_2079.jpg_perspective_view_left.jpg', 'cam360_2648.jpg_perspective_view_back.jpg', 'cam360_2079.jpg_perspective_view_bottom.jpg', 'cam360_2596.jpg_perspective_view_left.jpg', 'cam360_2596.jpg_perspective_view_back.jpg', 'cam360_1406.jpg_perspective_view_front.jpg', 'cam360_2648.jpg_perspective_view_right.jpg', 'cam360_2596.jpg_perspective_view_top.jpg', 'cam360_1562.jpg_perspective_view_front.jpg', 'cam360_1200.jpg_perspective_view_left.jpg', 'cam360_2493.jpg_perspective_view_front.jpg', 'cam360_2493.jpg_perspective_view_left.jpg', 'cam360_2493.jpg_perspective_view_back.jpg', 'cam360_2493.jpg_perspective_view_bottom.jpg'])\n",
      "All cameras for this interval are posed already.\n"
     ]
    }
   ],
   "source": [
    "# dropdown for selecting the interval\n",
    "\n",
    "\n",
    "intervals = os.listdir(os.path.join(data_root, '0-calibration'))\n",
    "\n",
    "interval_dropdown = widgets.Dropdown(\n",
    "    options=intervals,\n",
    "    description='Interval:',\n",
    "    disabled=False,\n",
    "    value='opensfm'\n",
    ")\n",
    "\n",
    "# load calibrated cameras\n",
    "posed_cameras = []\n",
    "unposed_cameras = []\n",
    "posed_images = []\n",
    "unposed_images = []\n",
    "\n",
    "display(interval_dropdown)\n",
    "\n",
    "def update(*args):\n",
    "    print(interval_dropdown.value)\n",
    "\n",
    "    interval = interval_dropdown.value\n",
    "\n",
    "    \n",
    "    reconstruction_path = os.path.join(data_root, '0-calibration', interval, 'undistorted', 'reconstruction.json')\n",
    "    images_path = os.path.join(data_root, '0-calibration', interval, 'undistorted', 'images')\n",
    "\n",
    "    if not os.path.exists(reconstruction_path):\n",
    "        print( \"Reconstruction not found. Please run 0-calibration/2-extrinsics.py for this interval first.\")\n",
    "        return\n",
    "    reconstruction = load_json(reconstruction_path)[0]\n",
    "\n",
    "    cam_names = reconstruction['cameras'].keys()\n",
    "\n",
    "    \n",
    "    for cam_name in cam_names:\n",
    "        try:\n",
    "            camera_name = cam_name.split(' ')[1]\n",
    "        except:\n",
    "            camera_name = cam_name.split('_')[0]\n",
    "\n",
    "        print(camera_name, reconstruction['shots'].keys())\n",
    "        for shot in reconstruction['shots'].keys():\n",
    "            if camera_name + '_' in shot:\n",
    "                posed_cameras.append(camera_name)\n",
    "                break\n",
    "\n",
    "        if camera_name not in posed_cameras:\n",
    "            unposed_cameras.append(cam_name.split(' ')[1])\n",
    "\n",
    "    if len(unposed_cameras) == 0:\n",
    "        print('All cameras for this interval are posed already.')\n",
    "\n",
    "    else:\n",
    "        print('Unposed cameras for this interval:', unposed_cameras)\n",
    "\n",
    "interval_dropdown.observe(update, 'value')\n",
    "\n"
   ]
  },
  {
   "cell_type": "markdown",
   "metadata": {},
   "source": [
    "## Annotate Matched Keypoints"
   ]
  },
  {
   "cell_type": "code",
   "execution_count": 41,
   "metadata": {},
   "outputs": [
    {
     "name": "stdout",
     "output_type": "stream",
     "text": [
      "opensfm\n"
     ]
    }
   ],
   "source": [
    "# load images\n",
    "\n",
    "import cv2\n",
    "\n"
   ]
  },
  {
   "cell_type": "code",
   "execution_count": 52,
   "metadata": {},
   "outputs": [
    {
     "data": {
      "application/vnd.jupyter.widget-view+json": {
       "model_id": "ab13be35ee124dceb7c26bee946cf161",
       "version_major": 2,
       "version_minor": 0
      },
      "text/plain": [
       "SelectMultiple(description='Unposed Cameras', options=('cam3',), value=())"
      ]
     },
     "metadata": {},
     "output_type": "display_data"
    },
    {
     "data": {
      "application/vnd.jupyter.widget-view+json": {
       "model_id": "220946aad5d442d6af531ea65ec65729",
       "version_major": 2,
       "version_minor": 0
      },
      "text/plain": [
       "SelectMultiple(description='Posed Cameras', options=('cam360', 'cam2', 'cam1'), value=())"
      ]
     },
     "metadata": {},
     "output_type": "display_data"
    }
   ],
   "source": [
    "unposed_selector = widgets.SelectMultiple(\n",
    "    options=unposed_cameras,\n",
    "    value=[],\n",
    "    description='Unposed Cameras',\n",
    "    disabled=False\n",
    ")\n",
    "\n",
    "posed_selector = widgets.SelectMultiple(\n",
    "    options=posed_cameras,\n",
    "    value=[],\n",
    "    description='Posed Cameras',\n",
    "    disabled=False\n",
    ")\n",
    "\n",
    "unposed_slider = widgets.IntSlider(\n",
    "    value=0,\n",
    "    min=0,\n",
    "    max=10,\n",
    "    step=1,\n",
    "    description='Unposed Image:',\n",
    "    disabled=False,\n",
    "    continuous_update=False,\n",
    "    orientation='horizontal',\n",
    "    readout=True,\n",
    "    readout_format='d'\n",
    ")\n",
    "posed_slider = widgets.IntSlider(\n",
    "    value=0,\n",
    "    min=0,\n",
    "    max=10,\n",
    "    step=1,\n",
    "    description='Posed Image:',\n",
    "    disabled=False,\n",
    "    continuous_update=False,\n",
    "    orientation='horizontal',\n",
    "    readout=True,\n",
    "    readout_format='d'\n",
    ")\n",
    "\n",
    "display(unposed_selector)\n",
    "display(posed_selector)\n",
    "\n",
    "\n",
    "def set_img_sliders(*args):\n",
    "    # clear previous sliders\n",
    "    # unposed_slider.close()\n",
    "\n",
    "    # posed_slider.close()\n",
    "\n",
    "    # update sliders with new values\n",
    "    unposed_slider.max = len(unposed_cameras[unposed_selector.value])\n",
    "    posed_slider.max = len(posed_cameras[posed_selector.value])\n",
    "    \n",
    "    \n",
    "    \n",
    "    display(unposed_slider)\n",
    "    display(posed_slider)\n",
    "\n",
    "\n",
    "def render(*args):\n",
    "    print(unposed_selector.value)\n",
    "    print(posed_selector.value)\n",
    "    print(interval_dropdown.value)\n",
    "\n",
    "\n",
    "\n",
    "unposed_selector.observe(render, 'value')\n",
    "posed_selector.observe(render, 'value')\n",
    "interval_dropdown.observe(render, 'value')\n",
    "\n",
    "posed_selector.observe(set_img_sliders, 'value')\n",
    "unposed_selector.observe(set_img_sliders, 'value')\n",
    "\n",
    "\n",
    "\n",
    "\n",
    "\n",
    "# image_names = os.listdir(os.path.join(data_root, '0-calibration', interval_dropdown.value, 'images'))\n",
    "\n",
    "# for image_name in image_names:\n",
    "#     if image_name.split('_')[0] in unposed_cameras:\n",
    "#         unposed_cameras[image_name.split('_')[0]].add_image(image_name)\n",
    "#     else:\n",
    "#         posed_cameras[image_name.split('_')[0]].add_image(image_name)\n"
   ]
  },
  {
   "cell_type": "code",
   "execution_count": null,
   "metadata": {},
   "outputs": [],
   "source": []
  },
  {
   "cell_type": "code",
   "execution_count": null,
   "metadata": {},
   "outputs": [],
   "source": []
  },
  {
   "cell_type": "code",
   "execution_count": null,
   "metadata": {},
   "outputs": [],
   "source": []
  }
 ],
 "metadata": {
  "kernelspec": {
   "display_name": "SAGE",
   "language": "python",
   "name": "python3"
  },
  "language_info": {
   "codemirror_mode": {
    "name": "ipython",
    "version": 3
   },
   "file_extension": ".py",
   "mimetype": "text/x-python",
   "name": "python",
   "nbconvert_exporter": "python",
   "pygments_lexer": "ipython3",
   "version": "3.9.17"
  }
 },
 "nbformat": 4,
 "nbformat_minor": 2
}
