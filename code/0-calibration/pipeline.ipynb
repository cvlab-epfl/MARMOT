{
 "cells": [
  {
   "cell_type": "code",
   "execution_count": null,
   "metadata": {},
   "outputs": [],
   "source": [
    "# load environment\n",
    "\n",
    "# Load Cameras\n",
    "\n",
    "import os\n",
    "import sys\n",
    "import numpy as np\n",
    "import json\n",
    "\n",
    "sys.path.append('..')\n",
    "from configs.arguments import get_config_dict\n",
    "from utils.multiview_utils import Camera, Calibration, MultiviewVids\n",
    "from utils.io_utils import write_json, load_json\n",
    "from utils.metadata_utils import get_cam_names\n",
    "from utils.coordinate_utils import update_reconstruction, point_in_polygon, project_to_ground_plane_cv2\n",
    "from utils.plot_utils import rotation_matrix, perp\n",
    "\n",
    "from scipy.spatial.transform import Rotation as R\n",
    "from skspatial.objects import Point, Vector, Plane, Points, Line\n",
    "import pyransac3d as pyrsc\n",
    "\n",
    "import copy\n",
    "import cv2\n",
    "import ipywidgets as widgets\n",
    "from PIL import Image\n",
    "import ipympl\n",
    "import matplotlib.pyplot as plt\n",
    "%matplotlib widget    "
   ]
  },
  {
   "cell_type": "code",
   "execution_count": null,
   "metadata": {},
   "outputs": [],
   "source": [
    "# create button to run compute_relative_poses.py\n",
    "\n",
    "def run_setup(event):\n",
    "    \"\"\"\n",
    "    Run compute_relative_poses.py\n",
    "    \"\"\"\n",
    "    print('Running Setup...')\n",
    "\n",
    "    os.system(f\"python3 0-calibration-setup.py\")\n",
    "\n",
    "setup = widgets.Button(description=\"Setup\")\n",
    "setup.layout.width = '200px'\n",
    "display(setup)\n",
    "setup.on_click(run_setup)"
   ]
  },
  {
   "cell_type": "code",
   "execution_count": null,
   "metadata": {},
   "outputs": [],
   "source": [
    "# create button to run 1-intrinsics.py\n",
    "\n",
    "def run_intrinsics(event):\n",
    "    \"\"\"\n",
    "    Run 1-intrinsics.py\n",
    "    \"\"\"\n",
    "    print('Running Intrinsics...')\n",
    "\n",
    "    os.system(f\"python3 1-intrinsics.py\")\n",
    "\n",
    "intrinsics = widgets.Button(description=\"Compute Intrinsics\")\n",
    "intrinsics.layout.width = '200px'\n",
    "display(intrinsics)\n",
    "intrinsics.on_click(run_intrinsics)"
   ]
  },
  {
   "cell_type": "code",
   "execution_count": null,
   "metadata": {},
   "outputs": [],
   "source": [
    "# create button to run 2-extrinsics.py\n",
    "\n",
    "def run_extrinsics(event):\n",
    "    \"\"\"\n",
    "    Run 2-extrinsics.py\n",
    "    \"\"\"\n",
    "    print('Running Extrinsics...')\n",
    "\n",
    "    os.system(f\"python3 2-extrinsics.py\")\n",
    "\n",
    "extrinsics = widgets.Button(description=\"Compute Extrinsics\")\n",
    "extrinsics.layout.width = '200px'\n",
    "display(extrinsics)\n",
    "extrinsics.on_click(run_extrinsics)"
   ]
  },
  {
   "cell_type": "code",
   "execution_count": null,
   "metadata": {},
   "outputs": [],
   "source": []
  },
  {
   "cell_type": "code",
   "execution_count": null,
   "metadata": {},
   "outputs": [],
   "source": []
  }
 ],
 "metadata": {
  "language_info": {
   "name": "python"
  }
 },
 "nbformat": 4,
 "nbformat_minor": 2
}
