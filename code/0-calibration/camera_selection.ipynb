{
 "cells": [
  {
   "cell_type": "code",
   "execution_count": null,
   "metadata": {},
   "outputs": [],
   "source": [
    "\"\"\"\n",
    "Tool that allows the user to assign cameras to stretches of the 360 footage.\n",
    "\n",
    "\"\"\"\n",
    "from pathlib import Path\n",
    "import cv2\n",
    "\n",
    "camera_folder = Path()\n",
    "\n",
    "cameras = []\n",
    "\n",
    "for camera in camera_folder.iterdir():\n",
    "    if camera.is_dir():\n",
    "        for file in camera.iterdir():\n",
    "            if file.suffix == '.mp4':\n",
    "                cameras.append(file)\n",
    "        print(camera.name)\n",
    "        if '360' in camera.name:\n",
    "            omni_cam = camera\n",
    "            assert cv2.VideoCapture(camera).get(cv2.CAP_PROP_FRAME_COUNT) > 0, \"Omni video file is empty\"\n",
    "        else:\n",
    "            cameras.append(camera)\n",
    "\n",
    "\n",
    "assert len(cameras) > 0, \"There should be at least one camera\"\n",
    "assert omni_cam is not None, \"There should be a 360 camera\"\n",
    "\n",
    "fps_360 = 30\n",
    "skip_360 = fps_360 // 2\n",
    "length_360 = \n",
    "segment_length = 30\n",
    "\n",
    "# by default each reconstruction will be made with 30 frames, more frames will cause the reconstruction to take longer\n",
    "num_segments = (length_360 / skip_360) // segment_length\n",
    "\n",
    "# load a frame from each camera\n",
    "base_frames = []\n",
    "for camera in cameras:\n",
    "    cap = cv2.VideoCapture(str(camera))\n",
    "    cap.set(cv2.CAP_PROP_POS_FRAMES, 0)\n",
    "    ret, frame = cap.read()\n",
    "    assert ret, \"Camera {} is empty\".format(camera.name)\n",
    "    base_frames.append(frame)\n",
    "\n",
    "\n"
   ]
  },
  {
   "cell_type": "code",
   "execution_count": 1,
   "metadata": {},
   "outputs": [
    {
     "ename": "NameError",
     "evalue": "name 'omni_cam' is not defined",
     "output_type": "error",
     "traceback": [
      "\u001b[1;31m---------------------------------------------------------------------------\u001b[0m",
      "\u001b[1;31mNameError\u001b[0m                                 Traceback (most recent call last)",
      "Cell \u001b[1;32mIn[1], line 18\u001b[0m\n\u001b[0;32m     16\u001b[0m omni_frames \u001b[38;5;241m=\u001b[39m []\n\u001b[0;32m     17\u001b[0m \u001b[38;5;28;01mfor\u001b[39;00m i \u001b[38;5;129;01min\u001b[39;00m \u001b[38;5;28mrange\u001b[39m(\u001b[38;5;241m0\u001b[39m, \u001b[38;5;241m30\u001b[39m \u001b[38;5;241m*\u001b[39m \u001b[38;5;241m30\u001b[39m, \u001b[38;5;241m30\u001b[39m):\n\u001b[1;32m---> 18\u001b[0m     omni_frames\u001b[38;5;241m.\u001b[39mappend(\u001b[43momni_cam\u001b[49m\u001b[38;5;241m.\u001b[39mget_frame(i))\n\u001b[0;32m     20\u001b[0m num_cameras \u001b[38;5;241m=\u001b[39m \u001b[38;5;28mlen\u001b[39m(cameras) \u001b[38;5;241m+\u001b[39m \u001b[38;5;241m1\u001b[39m\n\u001b[0;32m     22\u001b[0m fig, axs \u001b[38;5;241m=\u001b[39m plt\u001b[38;5;241m.\u001b[39msubplots((find_factors(num_cameras)), figsize\u001b[38;5;241m=\u001b[39m(\u001b[38;5;241m20\u001b[39m, \u001b[38;5;241m20\u001b[39m))\n",
      "\u001b[1;31mNameError\u001b[0m: name 'omni_cam' is not defined"
     ]
    }
   ],
   "source": [
    "import matplotlib.pyplot as plt\n",
    "\n",
    "import numpy as np\n",
    "\n",
    "def find_factors(a):\n",
    "    root = np.sqrt(a)\n",
    "    b = int(np.ceil(root))\n",
    "    c = int(np.floor(root))\n",
    "    \n",
    "    # If b*c is less than a, increment b\n",
    "    while b * c < a:\n",
    "        b += 1\n",
    "\n",
    "    return b, c\n",
    "\n",
    "omni_frames = []\n",
    "for i in range(0, 30 * 30, 30):\n",
    "    omni_frames.append(omni_cam.get_frame(i))\n",
    "\n",
    "num_cameras = len(cameras) + 1\n",
    "\n",
    "fig, axs = plt.subplots((find_factors(num_cameras)), figsize=(20, 20))\n",
    "\n",
    "\n",
    "for i, ax in enumerate(axs):\n",
    "    if i == 0:\n",
    "        continue\n",
    "    ax.imshow(base_frames[i])\n",
    "    ax.set_title(f'Camera {i}')\n",
    "\n",
    "axs[0].imshow(omni_frames[0])\n",
    "\n",
    "plt.show()"
   ]
  },
  {
   "cell_type": "code",
   "execution_count": null,
   "metadata": {},
   "outputs": [],
   "source": []
  }
 ],
 "metadata": {
  "kernelspec": {
   "display_name": "SAGE",
   "language": "python",
   "name": "python3"
  },
  "language_info": {
   "codemirror_mode": {
    "name": "ipython",
    "version": 3
   },
   "file_extension": ".py",
   "mimetype": "text/x-python",
   "name": "python",
   "nbconvert_exporter": "python",
   "pygments_lexer": "ipython3",
   "version": "3.9.17"
  }
 },
 "nbformat": 4,
 "nbformat_minor": 2
}
