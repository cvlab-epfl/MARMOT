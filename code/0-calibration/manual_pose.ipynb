{
 "cells": [
  {
   "cell_type": "code",
   "execution_count": null,
   "metadata": {},
   "outputs": [],
   "source": [
    "\"\"\"\n",
    "Notebook to pose unposed cameras. Run after running 2-extrinsics.py\n",
    "\n",
    "Pseudocode:\n",
    "- Load cameras\n",
    "    - If camera is posed add to posed_cameras\n",
    "    - If camera is unposed add to unposed_cameras\n",
    "- For each unposed camera in unposed_cameras do:\n",
    "    - Find the closest posed camera\n",
    "    - Select keypoints in overlapping views\n",
    "    - Solve PnP to get pose of unposed camera\n",
    "    - Add the posed camera to posed_cameras\n",
    "    - Remove the unposed camera from unposed_cameras\n",
    "    - Update extrinsics\n",
    "\"\"\"\n",
    "\n",
    "\n",
    "\n"
   ]
  },
  {
   "cell_type": "code",
   "execution_count": null,
   "metadata": {},
   "outputs": [],
   "source": [
    "import matplotlib.pyplot as plt\n",
    "import numpy as np\n",
    "import os\n",
    "import cv2"
   ]
  },
  {
   "cell_type": "code",
   "execution_count": null,
   "metadata": {},
   "outputs": [],
   "source": [
    "# Load Cameras"
   ]
  },
  {
   "cell_type": "code",
   "execution_count": null,
   "metadata": {},
   "outputs": [],
   "source": [
    "# "
   ]
  },
  {
   "cell_type": "code",
   "execution_count": null,
   "metadata": {},
   "outputs": [],
   "source": []
  }
 ],
 "metadata": {
  "language_info": {
   "name": "python"
  }
 },
 "nbformat": 4,
 "nbformat_minor": 2
}
