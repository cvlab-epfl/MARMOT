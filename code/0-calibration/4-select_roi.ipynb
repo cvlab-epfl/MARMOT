{
 "cells": [
  {
   "cell_type": "code",
   "execution_count": null,
   "metadata": {},
   "outputs": [],
   "source": [
    "import os\n",
    "import sys\n",
    "import numpy as np\n",
    "import json\n",
    "\n",
    "\n",
    "sys.path.append('..')\n",
    "from configs.arguments import get_config_dict\n",
    "from utils.multiview_utils import Camera, Calibration, MultiviewVids\n",
    "# from utils.io_utils import write_json, load_json\n",
    "# from utils.metadata_utils import get_cam_names\n",
    "# from utils.coordinate_utils import update_reconstruction, point_in_polygon, project_to_ground_plane_cv2\n",
    "# from utils.plot_utils import rotation_matrix, perp\n",
    "\n",
    "from scipy.spatial.transform import Rotation as R\n",
    "from skspatial.objects import Point, Vector, Plane, Points, Line\n",
    "# import pyransac3d as pyrsc\n",
    "\n",
    "# import copy\n",
    "# import cv2\n",
    "import ipywidgets as widgets\n",
    "import matplotlib.pyplot as plt\n",
    "%matplotlib widget\n",
    "\n",
    "arv_copy = sys.argv\n",
    "sys.argv = ['pop']\n",
    "sys.argv.append('-cfg')\n",
    "config_path = os.path.abspath('../../project_config.yaml')\n",
    "sys.argv.append(config_path)\n",
    "sys.argv.append('-dr')\n",
    "root_path = os.path.abspath('../../data/')\n",
    "sys.argv.append(root_path)\n",
    "sys.argv.append('-l')\n",
    "sys.argv.append('info')\n",
    "\n",
    "# load arguments from the arg parser\n",
    "config = get_config_dict()\n",
    "data_root = config[\"main\"][\"data_root\"]\n",
    "# calib_dir = os.path.join(data_root, '0-calibration', 'calibs')\n",
    "# video_dir = os.path.join(data_root, 'raw_data', 'footage')\n",
    "# reconstruction_dir = os.path.join(data_root, '0-calibration', 'opensfm', 'undistorted', 'reconstruction.json')\n",
    "# omni_tag = '360'\n",
    "\n",
    "\n",
    "# reconstruction_dir = os.path.join(data_root, '0-calibration', 'opensfm', 'reconstruction.json')\n",
    "# if not os.path.exists(reconstruction_dir):\n",
    "#     print( \"Reconstruction not found. Please run 0-calibration/2-extrinsics.py first.\")\n",
    "    "
   ]
  },
  {
   "cell_type": "markdown",
   "metadata": {},
   "source": [
    "## Check Temporal alignement"
   ]
  },
  {
   "cell_type": "code",
   "execution_count": null,
   "metadata": {},
   "outputs": [],
   "source": [
    "mvvids = MultiviewVids(newest=False, config=config)\n",
    "\n",
    "max_frame = np.min([10, mvvids.get_max_frame_id() - 1])\n",
    "step = 10\n",
    "base_frames = {}\n",
    "\n",
    "frame_ids = list(np.arange(0, max_frame, step))\n",
    "\n",
    "base_frames = mvvids.extract_mv(frame_ids, undistort = True)"
   ]
  },
  {
   "cell_type": "code",
   "execution_count": null,
   "metadata": {},
   "outputs": [],
   "source": [
    "#Check if temporal alignement is correct (timestamp matching) if not adjust offset in data/0-calibration/first_frame.json"
   ]
  },
  {
   "cell_type": "code",
   "execution_count": null,
   "metadata": {},
   "outputs": [],
   "source": [
    "%matplotlib inline\n",
    "\n",
    "mvvids = MultiviewVids(newest=False, config=config)\n",
    "print(mvvids.cams[0].first_frame)\n",
    "print(mvvids.cams[1].first_frame)\n",
    "\n",
    "\n",
    "img0 = mvvids.cams[0].extract([0])[0]\n",
    "plt.imshow(img0)\n",
    "plt.show()\n",
    "\n",
    "img0 = mvvids.cams[1].extract([0])[0]\n",
    "plt.imshow(img0)\n",
    "plt.show()"
   ]
  },
  {
   "cell_type": "code",
   "execution_count": null,
   "metadata": {},
   "outputs": [],
   "source": [
    "# from utils.plot_utils import first_frame_selector\n",
    "# json_path = os.path.join(data_root, '0-calibration', 'first_frame.json')\n",
    "\n",
    "# first_frame_selector(mvvids.cams, frame_ids, base_frames, json_path)"
   ]
  },
  {
   "cell_type": "markdown",
   "metadata": {},
   "source": [
    "## Select Region of Interest (ROI) for each view"
   ]
  },
  {
   "cell_type": "markdown",
   "metadata": {},
   "source": [
    "For each camera select on the ground the region of interest. This will be used to center the scene and the model will only predict detection in that area."
   ]
  },
  {
   "cell_type": "code",
   "execution_count": null,
   "metadata": {},
   "outputs": [],
   "source": [
    "plt.close('all')\n",
    "\n",
    "from matplotlib.patches import Polygon\n",
    "\n",
    "\n",
    "roi_points = {cam.name: [] for cam in mvvids.cams}\n",
    "\n",
    "# create dropdown widget with camera names as options\n",
    "cam_dropdown = widgets.Dropdown(\n",
    "    options=[cam.name for cam in mvvids.cams],\n",
    "    value=mvvids.cams[0].name,\n",
    "    description='Camera:',\n",
    "    disabled=False,\n",
    ")\n",
    "\n",
    "def onclick(event, cam):\n",
    "    ax.plot(event.xdata, event.ydata, 'rx', markersize=10)\n",
    "    roi_points[cam.name].append(([event.xdata, event.ydata]))\n",
    "\n",
    "    # check if we have at least 3 points to define a polygon\n",
    "    if len(roi_points[cam.name]) >= 3:\n",
    "        # get the x and y coordinates of the clicked points\n",
    "        x, y = zip(*roi_points[cam.name])\n",
    "\n",
    "        # create a polygon patch with the clicked points\n",
    "        polygon = Polygon(list(zip(x, y)), alpha=0.2, facecolor='C0')\n",
    "\n",
    "        # remove any existing polygon patches from the axes\n",
    "        for patch in ax.patches:\n",
    "            patch.remove()\n",
    "\n",
    "        # add the new polygon patch to the axes\n",
    "        ax.add_patch(polygon)\n",
    "\n",
    "    fig.canvas.draw()\n",
    "    pass\n",
    "\n",
    "def update_cam(change):\n",
    "    ax.cla()\n",
    "    global cam\n",
    "    cam_name = change.new\n",
    "    cam = next(cam for cam in mvvids.cams if cam.name == cam_name)\n",
    "    ax.set_title(f\"Camera: {cam.name}\")\n",
    "    ax.imshow(base_frames[cam.name][0])\n",
    "    fig.canvas.draw()\n",
    "    pass\n",
    "\n",
    "cam_dropdown.observe(update_cam, names='value')\n",
    "\n",
    "cam = mvvids.cams[0]\n",
    "fig, ax = plt.subplots(1,1, figsize=(10,10))\n",
    "ax.imshow(base_frames[cam.name][0])\n",
    "fig.subplots_adjust(left=0, right=1, bottom=0, top=1)\n",
    "\n",
    "cid = fig.canvas.mpl_connect('button_press_event', lambda event: onclick(event, cam))\n",
    "\n",
    "display(cam_dropdown)\n",
    "# display(fig)"
   ]
  },
  {
   "cell_type": "markdown",
   "metadata": {},
   "source": [
    "# Save Calibs"
   ]
  },
  {
   "cell_type": "code",
   "execution_count": null,
   "metadata": {},
   "outputs": [],
   "source": [
    "print(roi_points)\n",
    "\n",
    "# Save updated calibrations\n",
    "for camera in mvvids.cams:\n",
    "    print(f\"Saving calibration data for camera: {camera.name}\")\n",
    "    camera.set_calib(Calibration(ROI = roi_points[camera.name]))\n",
    "    camera.save_calibration()"
   ]
  },
  {
   "cell_type": "code",
   "execution_count": null,
   "metadata": {},
   "outputs": [],
   "source": []
  }
 ],
 "metadata": {
  "kernelspec": {
   "display_name": "Python 3 (ipykernel)",
   "language": "python",
   "name": "python3"
  },
  "language_info": {
   "codemirror_mode": {
    "name": "ipython",
    "version": 3
   },
   "file_extension": ".py",
   "mimetype": "text/x-python",
   "name": "python",
   "nbconvert_exporter": "python",
   "pygments_lexer": "ipython3",
   "version": "3.10.12"
  }
 },
 "nbformat": 4,
 "nbformat_minor": 4
}
